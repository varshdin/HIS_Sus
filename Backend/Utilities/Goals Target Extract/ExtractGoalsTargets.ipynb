{
 "cells": [
  {
   "attachments": {},
   "cell_type": "markdown",
   "metadata": {},
   "source": [
    "#### Part 1 - Extract the \"Relevant Text\" from pdf"
   ]
  },
  {
   "attachments": {},
   "cell_type": "markdown",
   "metadata": {},
   "source": [
    "##### Here we find keywords in text such as : Goal/Goals, Targets, Objective.  By doing this we directly reduce pages from around 100 to 30. So our search scope is narrowed down"
   ]
  },
  {
   "cell_type": "code",
   "execution_count": 124,
   "metadata": {},
   "outputs": [],
   "source": [
    "import PyPDF2\n",
    "import string"
   ]
  },
  {
   "cell_type": "code",
   "execution_count": 139,
   "metadata": {},
   "outputs": [
    {
     "name": "stdout",
     "output_type": "stream",
     "text": [
      "\n",
      " \n",
      "Five dimensions with fourteen thematic fields form the  framework for action for Fraport We understand sustainability as the interplay of  ecological, economic and social aspects.  We have defined concrete targets for the five  dimensions derived from this and report annually  on their measures and target achievement. 6 Employees Economic  enhancement CommunityGovernanceEcologyEconomy Social Environment\n",
      " \n",
      "Environmental Goals Focus on climate protection: Our contribution to a climate -neutral  Europe 9No offsetting of CO 2emissions (Scope 1 and 2) is to take place throughout the Group. We want to meet people's need for mobility without placing an additional burden on the environment. We  are working at full speed to achieve this. Climate protection is one of the most urgent tasks facing the entire  aviation industry. That is why we have once again tightened our CO2 targets in 2021.  New targets ofFraport AG In thousand t CO 2New targets forFraport Group In thousand t CO 2 229 Base year 199075 Target year 2030 Target year 204025 0 Target year 2045-67% -89% -100% 120289 Base year Target year 203040 Target year 20400 Target year 2045-58% -86% -100% \n",
      " \n",
      "Environmental Goals Significant CO 2reductions have already been realized over time (Scope 1+2)  despite traffic growth 10 Source: Fraport calculationsT argeted set of measures defined and implemented led to  significant reduction of CO 2emissions of Fraport AG in  Frankfurt since 2005. Expansion of infrastructure (new taxiways, gates, service &  administration buildings) was subsequently more than  compensated. CO2reduction of Fraport AG at Frankfurt site systematically  continued -after more than 300,000 t in 2002 CO2target for 2030 maximum 75,000 t T erminal 3 and new  infrastructure Traffic growth (post -Corona) Impacts of climate  changePower Purchase  Agreement Wind Vehicle conversion Photovoltaics atFRA Energy saving  measures CO2 emissions: Fraport AG development & plan in FRA Despite expansion, significant CO 2reduction since 1990 Outlook: Opposing effects & central measuresLeft axis: tons of CO 2 Right axis: million traffic units Terminal 2 with Parking garage &PTS Gate D (T2) A-finger (T1)  &Connection  C&D Runway North; A -Plus  (T1); Airport City West;  Corporate Headquarte rs T2 office towers ; BVD  transport building Terminal 3 and  associated infrastructure (parking garage , PTS); gradual  self-supply with zero- emission electricity \n",
      " \n",
      "Energy optimization and refurbishment of  existing buildings  Replacement of old systems (heating, cooling,  ventilation), otherwise energy refurbishment Replacement of lighting on the taxiway and  apron, in terminals and parking garages with  LEDs Replacement of motors of the baggage  conveyor system Reduction of idling in -ground processes Efficient energy and CO 2management and  monitoring at Fraport AG Reduce energy demand An ongoing program to successively convert  vehicle fleet to alternative drives -electrify  another 900 vehicles by 2030 Change energy source On-site generation of solar power  Purchase of electricity from offshore wind power  via a Power Purchase Agreement (PPA) Long -term power purchase agreement via  Corporate Power Purchase Agreement (CPPA) Optimal use of given supply structures through  digitization and storageEmission -freeenergy generationEnvironmental Goals This is how we intend to achieve our climate protection goals at  Fraport AG 12 \n",
      " \n",
      "Environmental Goals At a glance: Our Group airports with Airport Carbon Accreditation (ACA) Fraport Greece Kefallinia , Mitilini , Rodos , Thessaloniki, Chania, Samos Lima Airport PartnersFraport Twin Star Fraport SlovenijaFraport AG Fraport TAV Antalya Airports that determine  their carbon footprintAirports that actively reduce  their carbon footprint under  the supervision of ACAAirports that reduce their carbon  footprint and encourage  stakeholders to do the same.Airports that offset their  remaining carbon footprint that  cannot be reduced through  alternative measures. The Airport Carbon Accreditation Program is a global industry standard with the goal of motivating as many airports as possib le to  implement comprehensive CO 2management and move toward CO 2-free operations. \n",
      " \n",
      "Employee satisfaction Group target : At least 30.8% women at the 1st level and  30.2% at the 2nd level below Executive Board  (Group in Germany)) Fraport AG target : At least 31.8% women at the 1st level  and 30,9% at the 2nd level below Executive BoardWomen in management positions Apprenticeships (vocational training  and dual study program)  110 per  yearApprenticeships Continuation of protective measures for  employees in the context of the coronavirus  pandemic Increased promotion of work in home  offices (overall scope) Continuation of the \"pulse check\"  introduced in 2020 (short online surveys on  the mood of the workforce) (Fraport AG)Continuation of existing measures, such as  systematic talent management and  potential assessment centres, cross - mentoring program, coaching activities as  part of the further development of female  executives, and offers to take on  management positions part -time (Fraport AG andGerman Group companies )Apprentices to be taken on for at least 6  months in 2021 despite coronavirus crisis;  in 2022, offer of temporary employment for  between 6 and 12 months depending on  the apprenticeship occupation, subject to  technical and personal suitability Continuation of the vocational preparation  program Startklar (Ready forTakeoff)  foryoung people without an  apprenticeship (Fraport AG aswellasAirport Cater Service, FCS Frankfurt  Cargo Services, FraCareServices , Medical Airport Service,  operational services )Employees Attractive andresponsible employer / Measures 2021 ( excerpt ) Better than orequal to3.0 18Apprentices to be taken on for at least 6  months in 2021 despite the coronavirus  pandemic; in 2022, offer of temporary  employment for between 6 and 12 months  depending on the apprenticeship  occupation, subject to technical and  personal suitability. Continuation of the \" Startklar \" vocational  preparation program for young people  without apprenticeships (Fraport AG aswellasAirport Cater Service, FCS  Frankfurt Cargo Services, FraCareServices , Medical  Airport Service, operational services ) \n",
      " \n",
      "Reduce workplace accidents Sickness rate 7.2%  (Group in Germany)Reduce sickness rate Consistent implementation of the  measures laid down in the Group  Directive2)for all companies within the  scope of the Group Directive (overall scope) Continuation of workplace -specific  training Due to the effects of the coronavirus  pandemic, the use of targeted campaigns  and projects is required, particularly for  employees in operational areas (Fraport AG  and German Group companies )Information on health -preserving  measures for prevention, fitness, nutrition  and relaxation on the intranet, via  mailings and virtual platforms Increase in the proportion of digital  health offerings Prevention offers for operational areas  (back training and therapy, fitness  mobile) Home office command to contain  infection chains and information offered  on the coronavirus pandemicEmployees Occupational Health & Safety Measures 2021 ( excerpt ) LTIF1) 22.5 In 2020 and 2021, the sickness rate was  particularly low due to the extensive hygiene  measures, reduced working hours and  increased working from home. 19 1) Lost time injury frequency 2)F6.0 Occupational Health and Safety\n",
      " \n",
      "Corporate Governance Executive Board Compensation 32 The compensation of the Executive Board is  determined by the Supervisory Board based on a  proposal by the Executive Committee and is  reviewed regulary . In addition to financial targets for long -term  performance compensation, the compensation  system also includes non -financial elements.  For the fiscal year 2021, the reduction of the  carbon footprint at the Frankfurt site in the form  of a power purchase agreement (PPA) for energy  procurement from wind turbines and the  completion of construction work on Pier G by  the end of January 2022 was defined as non - financial components.Performance criteria are set by the Supervisory Board for the fiscal year. At least one performance criterion must be an ESG objective: Environmental  Social Governance (ESG) objectives such as occupational health and safety,  compliance, energy and the environment, customer satisfaction, employee  concerns or corporate culture. Compensation Report  \n",
      " \n",
      "Corporate Governance We ensure data protection compliant handling of personal data General measures : Data processing in compliance with the  European General Data Protection  Regulation or national data protection  laws for subsidiaries outside the EU Data protection training for employees,  depending on the target group Reporting process for data security  incidents and data leaks at Fraport AG 33 \n",
      " \n",
      "Target Key Performance Indicator Target Level Term Scope Status 2021 We provide our services  while taking  environmental concerns  into account and to  constantly improve our environmental  performance.Proportion of fully  consolidated,  environmentally relevant  Group companies  with certified environmental  management  systems (EMAS or ISO14001), weighted  according to revenue100% Unlimited1) Group 80.9% We record the air  pollutant emissions of all relevant emitters of  airport operations.Record of the air pollutant  emissions of all relevant  emission sources from  airport operationsFraport aims to comprehensively  record air pollutant emissions by  major source in the long term. A performance indicator in the  narrow sense is not defined in the  topic area of air quality.FRA Site2) - 1) Ongoing objective taking into account changes in the portfolio of Fraport airports. 2) Including air traffic up to 300 m.Environmental Goals OurProgram forProtection ofEnvironment and Nature, andAir Quality 45 \n",
      " \n",
      "Target Key Performance  IndicatorTarget Level Term Scope Status 2021 We always  manage the  company responsibly and  transparently.Determination of key performance indicator, target level and term  does not apply since the topic \"Corporate Governance and  Compliance\" is a basic requirement for our business and included in  our standard processes. Group Does not applyWeensure the  handling of personal data in  compliance with  thedata  protection laws  and safeguard the rights of those  affected.Determination of key performance indicator, target level and term  does not apply since the data protection regulations in each  respective country must be observed at all times.Goals Governance OurProgram forGovernance 49 \n",
      " \n",
      "Target Key Performance  IndicatorTarget Level Term Scope Status 2021 We protect our  IT systems and  data against  failure,  manipulation  andunwanted  publication.Determination ofkeyperformance indicator, target  level andterm does notapply because the protection of our IT  systems is always a top priority and is integrated into the  regular processes for continuous improvement in accordance  with the internationally recognized standard for information  security (ISO 27001).Group Does not apply We ensure the  safety and security  of everyone at our  airports.Determination of key performance indicator, target level and  term does not apply as safety in air traffic and on the premises  has the highest priority for Fraport.Group Does notapplyGoals Governance OurProgram forGovernance 50 \n",
      " \n",
      "UN Global Compact and Sustainable Development  Goals (SDGs) Fraport complies with and supports the ten principles of the UN Global  Compact , develops and takes measures to implement them, and contributes to  their recognition, even beyond the Companys own boundaries. Our  Sustainability Reporting 2021, which consists of the non -financial statement and  the ESG Fact Book, serves as a progress report for the implementation of the ten  principles of the UN Global Compact on corporate management. Our  sustainability reporting is based on the guidelines of the Global Reporting  Initiative (GRI -referenced). With Agenda 2030 for Sustainable Development, the UN Member States are expressing their conviction that global challenges can only be solved if we all work together. The heart of the agenda consists of 17  Sustainable Development Goals (SDGs). As a signatory to the UN Global  Compact, Fraport AG is particularly committed to these objectives and the  Sustainable Development Goals. Our focus in this regard is on the SDGs which,  in our view, lie within the scope of what we are able to influence by our actions. 80\n",
      " \n",
      "GRI 404 Training and education We promote personal willingness to learn and  develop through a wide range of training and  qualification programs in the areas of languages, IT,  management and leadership, communication and  professional development. Through individual  coaching, we support employees in professionally  fulfilling their own specialist roles. We support special target groups and designated  talents, for example, through various mentoring  programs in cooperation with universities and other  companies. We enable our employees to take legally recognized  further training courses, e.g. to become specialists,  technicians and master craftsmen, and post - graduate courses at state universities.  \n",
      " \n",
      "Since 2017, Fraport has had a commission Equal  Opportunities * (with equal numbers of employee and works  council members, headed by the Diversity Officer). Its tasks  include developing and implementing initiatives for the  development and implementation of measures to promote  diversity.At the same time, the Diversity Council was founded; it is  tasked with supporting the diversity strategy as well as the  goals and measures in technical terms and specific to each  unit. The Diversity Council consists of representatives of the  different work areas at Fraport. GRI 405 Diversity andOpportunities Diversity Committees In the year under review, the Diversity Steering Committee met four times and the Equal Opportunity Commission twice in virtu al form due  to the corona -related restrictions. *) The Diversity Board and Diversity Council are bodies of the Fraport parent company and its units. Subsidiaries at the Frankfu rt site are also represented in the  Diversity Steering Committee and have an advisory function. 105\n",
      " \n",
      "GRI 405 Diversity andOpportunities People with Disabilities We focus on the special abilities and potential of  employees with disabilities and have developed  targeted measures to promote them.  Consequently, the rate of severely disabled persons  at Fraport has therefore been well above the  statutory mandatory rate of five per cent for many  years. Since 2014 our company has been contributing to  the implementation of the UN Convention on the  Rights of Persons with Disabilities. With its \"Our  Way to Embracing Inclusion  action plan, Fraport  AG has been building upon its already existing  activities. These activities are constantly being  expanded by concrete objectives and measures . \n"
     ]
    }
   ],
   "source": [
    "# Open the PDF\n",
    "with open('Fraport-2021.pdf', 'rb') as file:\n",
    "    pdf = PyPDF2.PdfFileReader(file)\n",
    "    pdftext=''\n",
    "    # Iterate through each page of the PDF\n",
    "    for page in range(pdf.getNumPages()):\n",
    "        text = pdf.getPage(page).extractText()\n",
    "        # Search for goals and targets\n",
    "        if 'goal' in text or 'target' in text or 'objective' in text.lower():\n",
    "            #Removing special characters\n",
    "            filtered_text = ''.join(filter(lambda x:x in string.printable, text))\n",
    "            # removeing unwanted spaces\n",
    "            filtered_text = filtered_text.replace('\\n', ' ').replace('\\r', '').replace('\\t', '')\n",
    "            pdftext = pdftext+ \"\\n \\n\" +filtered_text\n",
    "    print(pdftext)\n"
   ]
  },
  {
   "attachments": {},
   "cell_type": "markdown",
   "metadata": {},
   "source": [
    "### Part2 : Fine Tune Transformer model"
   ]
  },
  {
   "cell_type": "code",
   "execution_count": 1,
   "metadata": {},
   "outputs": [
    {
     "name": "stderr",
     "output_type": "stream",
     "text": [
      "c:\\Users\\nikhi\\AppData\\Local\\Programs\\Python\\Python310\\lib\\site-packages\\tqdm\\auto.py:22: TqdmWarning: IProgress not found. Please update jupyter and ipywidgets. See https://ipywidgets.readthedocs.io/en/stable/user_install.html\n",
      "  from .autonotebook import tqdm as notebook_tqdm\n"
     ]
    }
   ],
   "source": [
    "from transformers import DistilBertTokenizerFast\n",
    "from transformers import TFDistilBertForSequenceClassification\n",
    "import tensorflow as tf"
   ]
  },
  {
   "attachments": {},
   "cell_type": "markdown",
   "metadata": {},
   "source": [
    "##### Setup Bert   "
   ]
  },
  {
   "attachments": {},
   "cell_type": "markdown",
   "metadata": {},
   "source": [
    "##### Tokenizer"
   ]
  },
  {
   "cell_type": "code",
   "execution_count": 2,
   "metadata": {},
   "outputs": [
    {
     "name": "stderr",
     "output_type": "stream",
     "text": [
      "Downloading (…)okenizer_config.json: 100%|██████████| 28.0/28.0 [00:00<00:00, 28.0kB/s]\n",
      "c:\\Users\\nikhi\\AppData\\Local\\Programs\\Python\\Python310\\lib\\site-packages\\huggingface_hub\\file_download.py:129: UserWarning: `huggingface_hub` cache-system uses symlinks by default to efficiently store duplicated files but your machine does not support them in C:\\Users\\nikhi\\.cache\\huggingface\\hub. Caching files will still work but in a degraded version that might require more space on your disk. This warning can be disabled by setting the `HF_HUB_DISABLE_SYMLINKS_WARNING` environment variable. For more details, see https://huggingface.co/docs/huggingface_hub/how-to-cache#limitations.\n",
      "To support symlinks on Windows, you either need to activate Developer Mode or to run Python as an administrator. In order to see activate developer mode, see this article: https://docs.microsoft.com/en-us/windows/apps/get-started/enable-your-device-for-development\n",
      "  warnings.warn(message)\n",
      "Downloading (…)solve/main/vocab.txt: 100%|██████████| 232k/232k [00:00<00:00, 885kB/s]\n",
      "Downloading (…)/main/tokenizer.json: 100%|██████████| 466k/466k [00:00<00:00, 1.22MB/s]\n",
      "Downloading (…)lve/main/config.json: 100%|██████████| 483/483 [00:00<00:00, 483kB/s]\n"
     ]
    }
   ],
   "source": [
    "tokenizer = DistilBertTokenizerFast.from_pretrained('distilbert-base-uncased')"
   ]
  },
  {
   "cell_type": "code",
   "execution_count": 102,
   "metadata": {},
   "outputs": [],
   "source": [
    "import pandas as pd"
   ]
  },
  {
   "cell_type": "code",
   "execution_count": 103,
   "metadata": {},
   "outputs": [],
   "source": [
    "df = pd.read_csv(\"goaldata.csv\", sep=\";\",encoding=\"UTF-8-SIG\")"
   ]
  },
  {
   "cell_type": "code",
   "execution_count": 104,
   "metadata": {},
   "outputs": [
    {
     "data": {
      "text/plain": [
       "Index(['Label', 'Text'], dtype='object')"
      ]
     },
     "execution_count": 104,
     "metadata": {},
     "output_type": "execute_result"
    }
   ],
   "source": [
    "df.columns"
   ]
  },
  {
   "cell_type": "code",
   "execution_count": 105,
   "metadata": {},
   "outputs": [
    {
     "data": {
      "text/plain": [
       "'Reduce carbon emissions by 50% by 2030'"
      ]
     },
     "execution_count": 105,
     "metadata": {},
     "output_type": "execute_result"
    }
   ],
   "source": [
    "df.Text[0]"
   ]
  },
  {
   "cell_type": "code",
   "execution_count": 128,
   "metadata": {},
   "outputs": [],
   "source": [
    "## This number needs to ne changed based on available data, It should be arounf 70-805 of the main data\n",
    "\n",
    "training_size = 90"
   ]
  },
  {
   "cell_type": "code",
   "execution_count": 107,
   "metadata": {},
   "outputs": [],
   "source": [
    "sentences = []\n",
    "labels = []\n",
    "for x in range(0,len(df)):\n",
    "    sentences.append(df.Text[x])\n",
    "    labels.append(df.Label[x])"
   ]
  },
  {
   "cell_type": "code",
   "execution_count": 108,
   "metadata": {},
   "outputs": [],
   "source": [
    "training_sentences = sentences[0:training_size]\n",
    "validation_sentences = sentences[training_size:]\n",
    "training_labels = labels[0:training_size]\n",
    "validation_labels = labels[training_size:]"
   ]
  },
  {
   "cell_type": "code",
   "execution_count": 109,
   "metadata": {},
   "outputs": [],
   "source": [
    "tokenizer = DistilBertTokenizerFast.from_pretrained('distilbert-base-uncased')"
   ]
  },
  {
   "cell_type": "code",
   "execution_count": 110,
   "metadata": {},
   "outputs": [],
   "source": [
    "train_encodings = tokenizer(training_sentences,\n",
    "                            truncation=True,\n",
    "                            padding=True)\n",
    "val_encodings = tokenizer(validation_sentences,\n",
    "                            truncation=True,\n",
    "                            padding=True)"
   ]
  },
  {
   "cell_type": "code",
   "execution_count": 111,
   "metadata": {},
   "outputs": [],
   "source": [
    "train_dataset = tf.data.Dataset.from_tensor_slices((\n",
    "    dict(train_encodings),\n",
    "    training_labels\n",
    "))\n",
    "val_dataset = tf.data.Dataset.from_tensor_slices((\n",
    "    dict(val_encodings),\n",
    "    validation_labels\n",
    "))"
   ]
  },
  {
   "cell_type": "code",
   "execution_count": 112,
   "metadata": {},
   "outputs": [
    {
     "name": "stderr",
     "output_type": "stream",
     "text": [
      "Some layers from the model checkpoint at distilbert-base-uncased were not used when initializing TFDistilBertForSequenceClassification: ['activation_13', 'vocab_projector', 'vocab_layer_norm', 'vocab_transform']\n",
      "- This IS expected if you are initializing TFDistilBertForSequenceClassification from the checkpoint of a model trained on another task or with another architecture (e.g. initializing a BertForSequenceClassification model from a BertForPreTraining model).\n",
      "- This IS NOT expected if you are initializing TFDistilBertForSequenceClassification from the checkpoint of a model that you expect to be exactly identical (initializing a BertForSequenceClassification model from a BertForSequenceClassification model).\n",
      "Some layers of TFDistilBertForSequenceClassification were not initialized from the model checkpoint at distilbert-base-uncased and are newly initialized: ['pre_classifier', 'classifier', 'dropout_59']\n",
      "You should probably TRAIN this model on a down-stream task to be able to use it for predictions and inference.\n"
     ]
    }
   ],
   "source": [
    "# We classify two labels in this example. In case of multiclass \n",
    "# classification, adjust num_labels value\n",
    "model = TFDistilBertForSequenceClassification.from_pretrained('distilbert-base-uncased', num_labels=2)"
   ]
  },
  {
   "cell_type": "code",
   "execution_count": 116,
   "metadata": {},
   "outputs": [
    {
     "name": "stdout",
     "output_type": "stream",
     "text": [
      "Epoch 1/3\n",
      "45/45 [==============================] - 42s 678ms/step - loss: 0.0823 - accuracy: 0.9889 - val_loss: 1.4765 - val_accuracy: 0.7429\n",
      "Epoch 2/3\n",
      "45/45 [==============================] - 29s 651ms/step - loss: 0.0019 - accuracy: 1.0000 - val_loss: 1.7728 - val_accuracy: 0.7429\n",
      "Epoch 3/3\n",
      "45/45 [==============================] - 29s 650ms/step - loss: 7.6462e-04 - accuracy: 1.0000 - val_loss: 1.9696 - val_accuracy: 0.7429\n"
     ]
    },
    {
     "data": {
      "text/plain": [
       "<keras.callbacks.History at 0x23a12fbdc90>"
      ]
     },
     "execution_count": 116,
     "metadata": {},
     "output_type": "execute_result"
    }
   ],
   "source": [
    "optimizer = tf.keras.optimizers.Adam(learning_rate=5e-5)\n",
    "model.compile(optimizer=optimizer, loss=model.hf_compute_loss, metrics=['accuracy'])\n",
    "model.fit(train_dataset.shuffle(50).batch(2),\n",
    "          epochs=3,\n",
    "          batch_size=2,\n",
    "          validation_data=val_dataset.shuffle(30).batch(2))"
   ]
  },
  {
   "cell_type": "code",
   "execution_count": 145,
   "metadata": {},
   "outputs": [],
   "source": [
    "lines= pdftext.splitlines()\n",
    "lines = [x for x in lines if x.strip()]"
   ]
  },
  {
   "cell_type": "code",
   "execution_count": 157,
   "metadata": {},
   "outputs": [],
   "source": [
    "predict_input = tokenizer.encode(lines[0],\n",
    "                                 truncation=True,\n",
    "                                 padding=True,\n",
    "                                 return_tensors=\"tf\")"
   ]
  },
  {
   "cell_type": "code",
   "execution_count": 160,
   "metadata": {},
   "outputs": [
    {
     "name": "stdout",
     "output_type": "stream",
     "text": [
      "1/1 [==============================] - 0s 120ms/step\n"
     ]
    }
   ],
   "source": [
    "output = model.predict(predict_input)[0]"
   ]
  },
  {
   "cell_type": "code",
   "execution_count": 161,
   "metadata": {},
   "outputs": [],
   "source": [
    "tf_prediction = tf.nn.softmax(output, axis=1).numpy()[0]"
   ]
  },
  {
   "cell_type": "code",
   "execution_count": 163,
   "metadata": {},
   "outputs": [
    {
     "data": {
      "text/plain": [
       "0.99955183"
      ]
     },
     "execution_count": 163,
     "metadata": {},
     "output_type": "execute_result"
    }
   ],
   "source": [
    "tf_prediction[0]"
   ]
  },
  {
   "cell_type": "code",
   "execution_count": null,
   "metadata": {},
   "outputs": [],
   "source": []
  }
 ],
 "metadata": {
  "kernelspec": {
   "display_name": "Python 3",
   "language": "python",
   "name": "python3"
  },
  "language_info": {
   "codemirror_mode": {
    "name": "ipython",
    "version": 3
   },
   "file_extension": ".py",
   "mimetype": "text/x-python",
   "name": "python",
   "nbconvert_exporter": "python",
   "pygments_lexer": "ipython3",
   "version": "3.10.0"
  },
  "orig_nbformat": 4,
  "vscode": {
   "interpreter": {
    "hash": "49925a85a85dac8a2dca5afbebde9d93135fdd4b812dbf89ef8044a5eedbb9bf"
   }
  }
 },
 "nbformat": 4,
 "nbformat_minor": 2
}
